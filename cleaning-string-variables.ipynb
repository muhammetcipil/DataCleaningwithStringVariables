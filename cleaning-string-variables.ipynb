{
 "metadata": {
  "kernelspec": {
   "language": "python",
   "display_name": "Python 3",
   "name": "python3"
  },
  "language_info": {
   "name": "python",
   "version": "3.10.12",
   "mimetype": "text/x-python",
   "codemirror_mode": {
    "name": "ipython",
    "version": 3
   },
   "pygments_lexer": "ipython3",
   "nbconvert_exporter": "python",
   "file_extension": ".py"
  },
  "kaggle": {
   "accelerator": "none",
   "dataSources": [
    {
     "sourceId": 7502008,
     "sourceType": "datasetVersion",
     "datasetId": 4368563
    }
   ],
   "dockerImageVersionId": 30635,
   "isInternetEnabled": false,
   "language": "python",
   "sourceType": "notebook",
   "isGpuEnabled": false
  }
 },
 "nbformat_minor": 4,
 "nbformat": 4,
 "cells": [
  {
   "cell_type": "code",
   "source": [
    "# This Python 3 environment comes with many helpful analytics libraries installed\n",
    "# It is defined by the kaggle/python Docker image: https://github.com/kaggle/docker-python\n",
    "# For example, here's several helpful packages to load\n",
    "\n",
    "import numpy as np # linear algebra\n",
    "import pandas as pd # data processing, CSV file I/O (e.g. pd.read_csv)\n",
    "\n",
    "# Input data files are available in the read-only \"../input/\" directory\n",
    "# For example, running this (by clicking run or pressing Shift+Enter) will list all files under the input directory\n",
    "\n",
    "import os\n",
    "for dirname, _, filenames in os.walk('/kaggle/input'):\n",
    "    for filename in filenames:\n",
    "        print(os.path.join(dirname, filename))\n",
    "\n",
    "# You can write up to 20GB to the current directory (/kaggle/working/) that gets preserved as output when you create a version using \"Save & Run All\" \n",
    "# You can also write temporary files to /kaggle/temp/, but they won't be saved outside of the current session"
   ],
   "metadata": {
    "_uuid": "8f2839f25d086af736a60e9eeb907d3b93b6e0e5",
    "_cell_guid": "b1076dfc-b9ad-4769-8c92-a6c4dae69d19",
    "execution": {
     "iopub.status.busy": "2024-04-15T11:22:57.534259Z",
     "iopub.execute_input": "2024-04-15T11:22:57.534775Z",
     "iopub.status.idle": "2024-04-15T11:22:57.940558Z",
     "shell.execute_reply.started": "2024-04-15T11:22:57.534739Z",
     "shell.execute_reply": "2024-04-15T11:22:57.939298Z"
    },
    "trusted": true
   },
   "execution_count": null,
   "outputs": []
  },
  {
   "cell_type": "markdown",
   "source": [
    "![](https://media.istockphoto.com/id/530919180/tr/foto%C4%9Fraf/deleting-file-to-recycle-bin.jpg?s=612x612&w=0&k=20&c=TBqXPjJ91vdc596UU2LoDYegDqWkXy_bwhHd1EspTSE=)\n",
    "\n",
    "# Introduction\n",
    "You can reach sout my [notebook on kaggle](https://www.kaggle.com/code/muhammetipil/cleaning-string-variables?scriptVersionId=182799336).\n",
    "Also you can reach out my [git.hub repository](https://github.com/muhammetcipil/DataCleaningwithStringVariables)\n",
    "\n",
    "Hello everyone,\n",
    "In this notebook we learn how to deal with missing or incorrect text data.\n",
    "\n",
    "And I leave you the [video](https://www.youtube.com/watch?v=bDhvCp3_lYw) in which I follow the steps I applied in this project. Those who are curious can also follow the video.\n",
    "Of course, it could be some steps which isn't correct. However, the reason why I prepared these notebook is to share with you my learning journey.\n",
    "\n",
    "----------------------\n",
    "Herkese merhaba, \n",
    "Bu notebookta eksik veya hatalı metin verileri ile nasıl başa çıkabileceğimizi öğreniyoruz. \n",
    "\n",
    "Ve bu projede uyguladığım adımları takip ettiğim [videoyu](https://www.youtube.com/watch?v=bDhvCp3_lYw) sizlere de bırakıyorum. Merak edenler videoyu da takip edebilir.\n",
    "Yanlış veya eksik uyguladığım adımlar elbetteki mevcuttur. Fakat bu çalışmaları hazırlamamdaki sebeb öğrenirken oluşturduğum çalışmaları sizlerle paylaşmak ve ilerisi için kendime kaynak oluşturmak."
   ],
   "metadata": {}
  },
  {
   "cell_type": "code",
   "source": [
    "df=pd.read_excel(\"/kaggle/input/customer-call-data-cleaning-in-pandas-alex/Customer Call List.xlsx\")"
   ],
   "metadata": {
    "execution": {
     "iopub.status.busy": "2024-04-15T11:22:57.942551Z",
     "iopub.execute_input": "2024-04-15T11:22:57.943133Z",
     "iopub.status.idle": "2024-04-15T11:22:58.380789Z",
     "shell.execute_reply.started": "2024-04-15T11:22:57.943099Z",
     "shell.execute_reply": "2024-04-15T11:22:58.379385Z"
    },
    "trusted": true
   },
   "execution_count": null,
   "outputs": []
  },
  {
   "cell_type": "code",
   "source": [
    "df #take a quick idea of data"
   ],
   "metadata": {
    "execution": {
     "iopub.status.busy": "2024-04-15T11:22:58.382463Z",
     "iopub.execute_input": "2024-04-15T11:22:58.383111Z",
     "iopub.status.idle": "2024-04-15T11:22:58.413957Z",
     "shell.execute_reply.started": "2024-04-15T11:22:58.383066Z",
     "shell.execute_reply": "2024-04-15T11:22:58.412789Z"
    },
    "trusted": true
   },
   "execution_count": null,
   "outputs": []
  },
  {
   "cell_type": "code",
   "source": [
    "#dropping the duplicated datas\n",
    "df=df.drop_duplicates()\n",
    "df"
   ],
   "metadata": {
    "execution": {
     "iopub.status.busy": "2024-04-15T11:22:58.418574Z",
     "iopub.execute_input": "2024-04-15T11:22:58.419332Z",
     "iopub.status.idle": "2024-04-15T11:22:58.455078Z",
     "shell.execute_reply.started": "2024-04-15T11:22:58.419295Z",
     "shell.execute_reply": "2024-04-15T11:22:58.453551Z"
    },
    "trusted": true
   },
   "execution_count": null,
   "outputs": []
  },
  {
   "cell_type": "code",
   "source": [
    "#dropping unnecessairly columns\n",
    "df=df.drop(columns=\"Not_Useful_Column\")\n",
    "df"
   ],
   "metadata": {
    "execution": {
     "iopub.status.busy": "2024-04-15T11:22:58.456502Z",
     "iopub.execute_input": "2024-04-15T11:22:58.456961Z",
     "iopub.status.idle": "2024-04-15T11:22:58.481334Z",
     "shell.execute_reply.started": "2024-04-15T11:22:58.456927Z",
     "shell.execute_reply": "2024-04-15T11:22:58.480377Z"
    },
    "trusted": true
   },
   "execution_count": null,
   "outputs": []
  },
  {
   "cell_type": "code",
   "source": [
    "#Stripping non-string characters from Last_Name column\n",
    "\n",
    "#df[\"Last_Name\"]=df[\"Last_Name\"].str.rstrip(\"_\")\n",
    "#df[\"Last_Name\"]=df[\"Last_Name\"].str.lstrip(\"/\")\n",
    "#df[\"Last_Name\"]=df[\"Last_Name\"].str.lstrip(\"...\") \n",
    "\n",
    "# instead of all above codes we can write ;\n",
    "\n",
    "df[\"Last_Name\"]=df[\"Last_Name\"].str.strip(\"123./_\")\n",
    "df"
   ],
   "metadata": {
    "execution": {
     "iopub.status.busy": "2024-04-15T11:22:58.482693Z",
     "iopub.execute_input": "2024-04-15T11:22:58.484030Z",
     "iopub.status.idle": "2024-04-15T11:22:58.505940Z",
     "shell.execute_reply.started": "2024-04-15T11:22:58.483980Z",
     "shell.execute_reply": "2024-04-15T11:22:58.504702Z"
    },
    "trusted": true
   },
   "execution_count": null,
   "outputs": []
  },
  {
   "cell_type": "code",
   "source": [
    "#we will recreate the all same format of phone number \n",
    "df[\"Phone_Number\"]=df[\"Phone_Number\"].str.replace('[^a-zA-Z0-9]','',regex=True) #it gonna replace all values with '', except(^) a-zA-Z0-9 this values in the column\n",
    "#regex(regular expression) let us make it easy,instead of writing by character by (df[\"Phone_Number\"].str.replace(\"0\",\"\")&df[\"Phone_Number\"].str.replace(\"1\",\"\")....\n",
    "#we could use [^a-zA-Z0-9] mean is; one of these character must match not both of them \n",
    "#we dont have to write regex=True because it would be default True but its recomendable to write it clear\n",
    "#https://www.youtube.com/watch?v=hiJDlvKDy0o (regex expression)\n",
    "df[\"Phone_Number\"]=df[\"Phone_Number\"].apply(lambda x: str(x))#we transform all the data to string because if we wanna aplly the below lambda function to data all variables should be string\n",
    "#we're not using the \"str(df[\"Phone_Number\"])\" method because it apply entire column we just need to apply each value\n",
    "df[\"Phone_Number\"]=df[\"Phone_Number\"].apply(lambda x: x[0:3] +\"-\"+x[3:6]+\"-\"+x[6:10]) #formatting the same types of value\n",
    "\n",
    "# 3 code rows below this just for removing meaningless values from data\n",
    "df[\"Phone_Number\"]=df[\"Phone_Number\"].str.replace('nan--','')\n",
    "df[\"Phone_Number\"]=df[\"Phone_Number\"].str.replace('Na--','')\n",
    "df[\"Phone_Number\"]=df[\"Phone_Number\"].str.replace('--','')\n",
    "\n",
    "df"
   ],
   "metadata": {
    "execution": {
     "iopub.status.busy": "2024-04-15T11:22:58.507819Z",
     "iopub.execute_input": "2024-04-15T11:22:58.508529Z",
     "iopub.status.idle": "2024-04-15T11:22:58.535774Z",
     "shell.execute_reply.started": "2024-04-15T11:22:58.508486Z",
     "shell.execute_reply": "2024-04-15T11:22:58.534482Z"
    },
    "trusted": true
   },
   "execution_count": null,
   "outputs": []
  },
  {
   "cell_type": "code",
   "source": [
    "#splitting 2 comma(,), that mean is it will split the data for first 2 comma and with expand argument we create a new columns\n",
    "df[[\"Street_Address\",\"State\",\"Zip_Code\"]]=df[\"Address\"].str.split(\",\",n=2,expand=True)\n",
    "\n",
    "df"
   ],
   "metadata": {
    "execution": {
     "iopub.status.busy": "2024-04-15T11:22:58.536971Z",
     "iopub.execute_input": "2024-04-15T11:22:58.538520Z",
     "iopub.status.idle": "2024-04-15T11:22:58.566838Z",
     "shell.execute_reply.started": "2024-04-15T11:22:58.538458Z",
     "shell.execute_reply": "2024-04-15T11:22:58.565817Z"
    },
    "trusted": true
   },
   "execution_count": null,
   "outputs": []
  },
  {
   "cell_type": "code",
   "source": [
    "df[\"Paying Customer\"]=df[\"Paying Customer\"].str.replace(\"Yes\",\"Y\")\n",
    "df[\"Paying Customer\"]=df[\"Paying Customer\"].str.replace(\"No\",\"N\")\n",
    "\n",
    "df[\"Do_Not_Contact\"]=df[\"Do_Not_Contact\"].str.replace(\"Yes\",\"Y\")\n",
    "df[\"Do_Not_Contact\"]=df[\"Do_Not_Contact\"].str.replace(\"No\",\"N\")\n",
    "df"
   ],
   "metadata": {
    "execution": {
     "iopub.status.busy": "2024-04-15T11:22:58.568274Z",
     "iopub.execute_input": "2024-04-15T11:22:58.568696Z",
     "iopub.status.idle": "2024-04-15T11:22:58.594800Z",
     "shell.execute_reply.started": "2024-04-15T11:22:58.568640Z",
     "shell.execute_reply": "2024-04-15T11:22:58.593610Z"
    },
    "trusted": true
   },
   "execution_count": null,
   "outputs": []
  },
  {
   "cell_type": "code",
   "source": [
    "df=df.replace(\"N/a\",\"\")\n",
    "\n",
    "df.fillna(\"\",inplace=True)"
   ],
   "metadata": {
    "execution": {
     "iopub.status.busy": "2024-04-15T11:22:58.597412Z",
     "iopub.execute_input": "2024-04-15T11:22:58.597799Z",
     "iopub.status.idle": "2024-04-15T11:22:58.610040Z",
     "shell.execute_reply.started": "2024-04-15T11:22:58.597767Z",
     "shell.execute_reply": "2024-04-15T11:22:58.608788Z"
    },
    "trusted": true
   },
   "execution_count": null,
   "outputs": []
  },
  {
   "cell_type": "code",
   "source": [
    "#avaliable customers for contacing \n",
    "for x in df.index:\n",
    "    if df.loc[x,\"Do_Not_Contact\"]==\"Y\":\n",
    "            df.drop(x,inplace=True)\n",
    "               \n",
    "df"
   ],
   "metadata": {
    "execution": {
     "iopub.status.busy": "2024-04-15T11:22:58.611499Z",
     "iopub.execute_input": "2024-04-15T11:22:58.612178Z",
     "iopub.status.idle": "2024-04-15T11:22:58.640157Z",
     "shell.execute_reply.started": "2024-04-15T11:22:58.612145Z",
     "shell.execute_reply": "2024-04-15T11:22:58.638746Z"
    },
    "trusted": true
   },
   "execution_count": null,
   "outputs": []
  },
  {
   "cell_type": "code",
   "source": [
    "#getting the customer information which's phone number is not blank\n",
    "'''\n",
    "first;\n",
    "for x in df.index:\n",
    "    if df.loc[x,\"Phone_Number\"]==\"\":\n",
    "            df.drop(x,inplace=True)       \n",
    "second;\n",
    "df[df[\"Phone_Number\"]!=\"\"]\n",
    "\n",
    "'''\n",
    "\n",
    "df.query('Phone_Number!=\"\"')\n",
    "\n",
    "#those 3 different query types gives same result from different programmer style (do not confuse when u see them)"
   ],
   "metadata": {
    "execution": {
     "iopub.status.busy": "2024-04-15T11:22:58.641637Z",
     "iopub.execute_input": "2024-04-15T11:22:58.642536Z",
     "iopub.status.idle": "2024-04-15T11:22:58.667478Z",
     "shell.execute_reply.started": "2024-04-15T11:22:58.642493Z",
     "shell.execute_reply": "2024-04-15T11:22:58.666329Z"
    },
    "trusted": true
   },
   "execution_count": null,
   "outputs": []
  },
  {
   "cell_type": "code",
   "source": [],
   "metadata": {},
   "execution_count": null,
   "outputs": []
  }
 ]
}
